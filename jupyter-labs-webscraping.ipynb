{
 "cells": [
  {
   "cell_type": "markdown",
   "metadata": {},
   "source": [
    "<p style=\"text-align:center\">\n",
    "    <a href=\"https://skills.network/?utm_medium=Exinfluencer&utm_source=Exinfluencer&utm_content=000026UJ&utm_term=10006555&utm_id=NA-SkillsNetwork-Channel-SkillsNetworkCoursesIBMDS0321ENSkillsNetwork865-2023-01-01\">\n",
    "    <img src=\"https://cf-courses-data.s3.us.cloud-object-storage.appdomain.cloud/assets/logos/SN_web_lightmode.png\" width=\"200\" alt=\"Skills Network Logo\"  />\n",
    "    </a>\n",
    "</p>\n"
   ]
  },
  {
   "cell_type": "markdown",
   "metadata": {},
   "source": [
    "# **Space X  Falcon 9 First Stage Landing Prediction**\n"
   ]
  },
  {
   "cell_type": "markdown",
   "metadata": {},
   "source": [
    "## Web scraping Falcon 9 and Falcon Heavy Launches Records from Wikipedia\n"
   ]
  },
  {
   "cell_type": "markdown",
   "metadata": {},
   "source": [
    "Estimated time needed: **40** minutes\n"
   ]
  },
  {
   "cell_type": "markdown",
   "metadata": {},
   "source": [
    "In this lab, you will be performing web scraping to collect Falcon 9 historical launch records from a Wikipedia page titled `List of Falcon 9 and Falcon Heavy launches`\n",
    "\n",
    "https://en.wikipedia.org/wiki/List_of_Falcon_9_and_Falcon_Heavy_launches\n"
   ]
  },
  {
   "cell_type": "markdown",
   "metadata": {},
   "source": [
    "![](https://cf-courses-data.s3.us.cloud-object-storage.appdomain.cloud/IBM-DS0321EN-SkillsNetwork/labs/module_1_L2/images/Falcon9_rocket_family.svg)\n"
   ]
  },
  {
   "cell_type": "markdown",
   "metadata": {},
   "source": [
    "Falcon 9 first stage will land successfully\n"
   ]
  },
  {
   "cell_type": "markdown",
   "metadata": {},
   "source": [
    "![](https://cf-courses-data.s3.us.cloud-object-storage.appdomain.cloud/IBMDeveloperSkillsNetwork-DS0701EN-SkillsNetwork/api/Images/landing_1.gif)\n"
   ]
  },
  {
   "cell_type": "markdown",
   "metadata": {},
   "source": [
    "Several examples of an unsuccessful landing are shown here:\n"
   ]
  },
  {
   "cell_type": "markdown",
   "metadata": {},
   "source": [
    "![](https://cf-courses-data.s3.us.cloud-object-storage.appdomain.cloud/IBMDeveloperSkillsNetwork-DS0701EN-SkillsNetwork/api/Images/crash.gif)\n"
   ]
  },
  {
   "cell_type": "markdown",
   "metadata": {},
   "source": [
    "More specifically, the launch records are stored in a HTML table shown below:\n"
   ]
  },
  {
   "cell_type": "markdown",
   "metadata": {},
   "source": [
    "![](https://cf-courses-data.s3.us.cloud-object-storage.appdomain.cloud/IBM-DS0321EN-SkillsNetwork/labs/module_1_L2/images/falcon9-launches-wiki.png)\n"
   ]
  },
  {
   "cell_type": "markdown",
   "metadata": {},
   "source": [
    "  ## Objectives\n",
    "Web scrap Falcon 9 launch records with `BeautifulSoup`: \n",
    "- Extract a Falcon 9 launch records HTML table from Wikipedia\n",
    "- Parse the table and convert it into a Pandas data frame\n"
   ]
  },
  {
   "cell_type": "markdown",
   "metadata": {},
   "source": [
    "First let's import required packages for this lab\n"
   ]
  },
  {
   "cell_type": "code",
   "execution_count": 1,
   "metadata": {},
   "outputs": [
    {
     "name": "stdout",
     "output_type": "stream",
     "text": [
      "Requirement already satisfied: beautifulsoup4 in /home/jupyterlab/conda/envs/python/lib/python3.7/site-packages (4.11.1)\n",
      "Requirement already satisfied: soupsieve>1.2 in /home/jupyterlab/conda/envs/python/lib/python3.7/site-packages (from beautifulsoup4) (2.3.2.post1)\n",
      "Requirement already satisfied: requests in /home/jupyterlab/conda/envs/python/lib/python3.7/site-packages (2.28.1)\n",
      "Requirement already satisfied: charset-normalizer<3,>=2 in /home/jupyterlab/conda/envs/python/lib/python3.7/site-packages (from requests) (2.1.1)\n",
      "Requirement already satisfied: certifi>=2017.4.17 in /home/jupyterlab/conda/envs/python/lib/python3.7/site-packages (from requests) (2022.9.24)\n",
      "Requirement already satisfied: urllib3<1.27,>=1.21.1 in /home/jupyterlab/conda/envs/python/lib/python3.7/site-packages (from requests) (1.26.13)\n",
      "Requirement already satisfied: idna<4,>=2.5 in /home/jupyterlab/conda/envs/python/lib/python3.7/site-packages (from requests) (3.4)\n"
     ]
    }
   ],
   "source": [
    "!pip3 install beautifulsoup4\n",
    "!pip3 install requests"
   ]
  },
  {
   "cell_type": "code",
   "execution_count": 2,
   "metadata": {},
   "outputs": [],
   "source": [
    "import sys\n",
    "\n",
    "import requests\n",
    "from bs4 import BeautifulSoup\n",
    "import re\n",
    "import unicodedata\n",
    "import pandas as pd"
   ]
  },
  {
   "cell_type": "markdown",
   "metadata": {},
   "source": [
    "and we will provide some helper functions for you to process web scraped HTML table\n"
   ]
  },
  {
   "cell_type": "code",
   "execution_count": 4,
   "metadata": {},
   "outputs": [],
   "source": [
    "def date_time(table_cells):\n",
    "    \"\"\"\n",
    "    This function returns the data and time from the HTML  table cell\n",
    "    Input: the  element of a table data cell extracts extra row\n",
    "    \"\"\"\n",
    "    return [data_time.strip() for data_time in list(table_cells.strings)][0:2]\n",
    "\n",
    "def booster_version(table_cells):\n",
    "    \"\"\"\n",
    "    This function returns the booster version from the HTML  table cell \n",
    "    Input: the  element of a table data cell extracts extra row\n",
    "    \"\"\"\n",
    "    out=''.join([booster_version for i,booster_version in enumerate( table_cells.strings) if i%2==0][0:-1])\n",
    "    return out\n",
    "\n",
    "def landing_status(table_cells):\n",
    "    \"\"\"\n",
    "    This function returns the landing status from the HTML table cell \n",
    "    Input: the  element of a table data cell extracts extra row\n",
    "    \"\"\"\n",
    "    out=[i for i in table_cells.strings][0]\n",
    "    return out\n",
    "\n",
    "\n",
    "def get_mass(table_cells):\n",
    "    mass=unicodedata.normalize(\"NFKD\", table_cells.text).strip()\n",
    "    if mass:\n",
    "        mass.find(\"kg\")\n",
    "        new_mass=mass[0:mass.find(\"kg\")+2]\n",
    "    else:\n",
    "        new_mass=0\n",
    "    return new_mass\n",
    "\n",
    "\n",
    "def extract_column_from_header(row):\n",
    "    \"\"\"\n",
    "    This function returns the landing status from the HTML table cell \n",
    "    Input: the  element of a table data cell extracts extra row\n",
    "    \"\"\"\n",
    "    if (row.br):\n",
    "        row.br.extract()\n",
    "    if row.a:\n",
    "        row.a.extract()\n",
    "    if row.sup:\n",
    "        row.sup.extract()\n",
    "        \n",
    "    colunm_name = ' '.join(row.contents)\n",
    "    \n",
    "    # Filter the digit and empty names\n",
    "    if not(colunm_name.strip().isdigit()):\n",
    "        colunm_name = colunm_name.strip()\n",
    "        return colunm_name    \n"
   ]
  },
  {
   "cell_type": "markdown",
   "metadata": {},
   "source": [
    "To keep the lab tasks consistent, you will be asked to scrape the data from a snapshot of the  `List of Falcon 9 and Falcon Heavy launches` Wikipage updated on\n",
    "`9th June 2021`\n"
   ]
  },
  {
   "cell_type": "code",
   "execution_count": 5,
   "metadata": {},
   "outputs": [],
   "source": [
    "static_url = \"https://en.wikipedia.org/w/index.php?title=List_of_Falcon_9_and_Falcon_Heavy_launches&oldid=1027686922\""
   ]
  },
  {
   "cell_type": "markdown",
   "metadata": {},
   "source": [
    "Next, request the HTML page from the above URL and get a `response` object\n"
   ]
  },
  {
   "cell_type": "markdown",
   "metadata": {},
   "source": [
    "### TASK 1: Request the Falcon9 Launch Wiki page from its URL\n"
   ]
  },
  {
   "cell_type": "markdown",
   "metadata": {},
   "source": [
    "First, let's perform an HTTP GET method to request the Falcon9 Launch HTML page, as an HTTP response.\n"
   ]
  },
  {
   "cell_type": "code",
   "execution_count": 8,
   "metadata": {},
   "outputs": [],
   "source": [
    "# use requests.get() method with the provided static_url\n",
    "# assign the response to a object\n",
    "\n",
    "response = requests.get(static_url)\n",
    "\n"
   ]
  },
  {
   "cell_type": "markdown",
   "metadata": {},
   "source": [
    "Create a `BeautifulSoup` object from the HTML `response`\n"
   ]
  },
  {
   "cell_type": "code",
   "execution_count": 9,
   "metadata": {},
   "outputs": [],
   "source": [
    "# Use BeautifulSoup() to create a BeautifulSoup object from a response text content\n",
    "\n",
    "\n",
    "\n",
    "soup = BeautifulSoup(response.text, 'html.parser')\n",
    "\n"
   ]
  },
  {
   "cell_type": "markdown",
   "metadata": {},
   "source": [
    "Print the page title to verify if the `BeautifulSoup` object was created properly \n"
   ]
  },
  {
   "cell_type": "code",
   "execution_count": 10,
   "metadata": {},
   "outputs": [
    {
     "name": "stdout",
     "output_type": "stream",
     "text": [
      "List of Falcon 9 and Falcon Heavy launches - Wikipedia\n"
     ]
    }
   ],
   "source": [
    "# Use soup.title attribute\n",
    "print(soup.title.text)\n",
    "\n"
   ]
  },
  {
   "cell_type": "markdown",
   "metadata": {},
   "source": [
    "### TASK 2: Extract all column/variable names from the HTML table header\n"
   ]
  },
  {
   "cell_type": "markdown",
   "metadata": {},
   "source": [
    "Next, we want to collect all relevant column names from the HTML table header\n"
   ]
  },
  {
   "cell_type": "markdown",
   "metadata": {},
   "source": [
    "Let's try to find all tables on the wiki page first. If you need to refresh your memory about `BeautifulSoup`, please check the external reference link towards the end of this lab\n"
   ]
  },
  {
   "cell_type": "code",
   "execution_count": 12,
   "metadata": {},
   "outputs": [],
   "source": [
    "# Use the find_all function in the BeautifulSoup object, with element type `table`\n",
    "# Assign the result to a list called `html_tables`\n",
    "\n",
    "html_tables = soup.find_all('table')\n"
   ]
  },
  {
   "cell_type": "markdown",
   "metadata": {},
   "source": [
    "Starting from the third table is our target table contains the actual launch records.\n"
   ]
  },
  {
   "cell_type": "code",
   "execution_count": null,
   "metadata": {},
   "outputs": [],
   "source": [
    "# Let's print the third table and check its content\n",
    "first_launch_table = html_tables[2]\n",
    "print(first_launch_table)"
   ]
  },
  {
   "cell_type": "markdown",
   "metadata": {},
   "source": [
    "You should able to see the columns names embedded in the table header elements `<th>` as follows:\n"
   ]
  },
  {
   "cell_type": "markdown",
   "metadata": {},
   "source": [
    "```\n",
    "<tr>\n",
    "<th scope=\"col\">Flight No.\n",
    "</th>\n",
    "<th scope=\"col\">Date and<br/>time (<a href=\"/wiki/Coordinated_Universal_Time\" title=\"Coordinated Universal Time\">UTC</a>)\n",
    "</th>\n",
    "<th scope=\"col\"><a href=\"/wiki/List_of_Falcon_9_first-stage_boosters\" title=\"List of Falcon 9 first-stage boosters\">Version,<br/>Booster</a> <sup class=\"reference\" id=\"cite_ref-booster_11-0\"><a href=\"#cite_note-booster-11\">[b]</a></sup>\n",
    "</th>\n",
    "<th scope=\"col\">Launch site\n",
    "</th>\n",
    "<th scope=\"col\">Payload<sup class=\"reference\" id=\"cite_ref-Dragon_12-0\"><a href=\"#cite_note-Dragon-12\">[c]</a></sup>\n",
    "</th>\n",
    "<th scope=\"col\">Payload mass\n",
    "</th>\n",
    "<th scope=\"col\">Orbit\n",
    "</th>\n",
    "<th scope=\"col\">Customer\n",
    "</th>\n",
    "<th scope=\"col\">Launch<br/>outcome\n",
    "</th>\n",
    "<th scope=\"col\"><a href=\"/wiki/Falcon_9_first-stage_landing_tests\" title=\"Falcon 9 first-stage landing tests\">Booster<br/>landing</a>\n",
    "</th></tr>\n",
    "```\n"
   ]
  },
  {
   "cell_type": "markdown",
   "metadata": {},
   "source": [
    "Next, we just need to iterate through the `<th>` elements and apply the provided `extract_column_from_header()` to extract column name one by one\n"
   ]
  },
  {
   "cell_type": "code",
   "execution_count": 19,
   "metadata": {},
   "outputs": [],
   "source": [
    "column_names = []\n",
    "\n",
    "# Apply find_all() function with `th` element on first_launch_table\n",
    "# Iterate each th element and apply the provided extract_column_from_header() to get a column name\n",
    "# Append the Non-empty column name (`if name is not None and len(name) > 0`) into a list called column_names\n",
    "\n",
    "\n",
    "\n",
    "html_tables = soup.find_all('table')\n",
    "\n",
    "first_launch_table = html_tables[2]\n",
    "\n",
    "column_names = []\n",
    "\n",
    "header_cells = first_launch_table.find_all('th')\n",
    "\n",
    "for cell in header_cells:\n",
    "    name = extract_column_from_header(cell)\n",
    "    if name is not None and len(name) > 0:\n",
    "        column_names.append(name)\n",
    "\n"
   ]
  },
  {
   "cell_type": "markdown",
   "metadata": {},
   "source": [
    "Check the extracted column names\n"
   ]
  },
  {
   "cell_type": "code",
   "execution_count": 18,
   "metadata": {},
   "outputs": [
    {
     "name": "stdout",
     "output_type": "stream",
     "text": [
      "['Flight No.', 'Date and time ( )', 'Launch site', 'Payload', 'Payload mass', 'Orbit', 'Customer', 'Launch outcome']\n"
     ]
    }
   ],
   "source": [
    "print(column_names)"
   ]
  },
  {
   "cell_type": "markdown",
   "metadata": {},
   "source": [
    "## TASK 3: Create a data frame by parsing the launch HTML tables\n"
   ]
  },
  {
   "cell_type": "markdown",
   "metadata": {},
   "source": [
    "We will create an empty dictionary with keys from the extracted column names in the previous task. Later, this dictionary will be converted into a Pandas dataframe\n"
   ]
  },
  {
   "cell_type": "code",
   "execution_count": null,
   "metadata": {},
   "outputs": [],
   "source": [
    "launch_dict= dict.fromkeys(column_names)\n",
    "\n",
    "# Remove an irrelvant column\n",
    "del launch_dict['Date and time ( )']\n",
    "\n",
    "# Let's initial the launch_dict with each value to be an empty list\n",
    "launch_dict['Flight No.'] = []\n",
    "launch_dict['Launch site'] = []\n",
    "launch_dict['Payload'] = []\n",
    "launch_dict['Payload mass'] = []\n",
    "launch_dict['Orbit'] = []\n",
    "launch_dict['Customer'] = []\n",
    "launch_dict['Launch outcome'] = []\n",
    "# Added some new columns\n",
    "launch_dict['Version Booster']=[]\n",
    "launch_dict['Booster landing']=[]\n",
    "launch_dict['Date']=[]\n",
    "launch_dict['Time']=[]"
   ]
  },
  {
   "cell_type": "markdown",
   "metadata": {},
   "source": [
    "Next, we just need to fill up the `launch_dict` with launch records extracted from table rows.\n"
   ]
  },
  {
   "cell_type": "markdown",
   "metadata": {},
   "source": [
    "Usually, HTML tables in Wiki pages are likely to contain unexpected annotations and other types of noises, such as reference links `B0004.1[8]`, missing values `N/A [e]`, inconsistent formatting, etc.\n"
   ]
  },
  {
   "cell_type": "markdown",
   "metadata": {},
   "source": [
    "To simplify the parsing process, we have provided an incomplete code snippet below to help you to fill up the `launch_dict`. Please complete the following code snippet with TODOs or you can choose to write your own logic to parse all launch tables:\n"
   ]
  },
  {
   "cell_type": "code",
   "execution_count": 35,
   "metadata": {},
   "outputs": [
    {
     "name": "stdout",
     "output_type": "stream",
     "text": [
      "{'Flight No.': '1', 'Date': '4 June 2010,18:45', 'Time': '', 'Version Booster': 'F9 v1.0B0003.1', 'Launch Site': 'CCAFS', 'Payload': 'Dragon Spacecraft Qualification Unit', 'Payload mass': 0, 'Orbit': 'LEO', 'Customer': 'SpaceX', 'Launch outcome': 'Success\\n', 'Booster landing': 'Failure'}\n",
      "{'Flight No.': '2', 'Date': '8 December 2010,15:43[13]', 'Time': '', 'Version Booster': 'F9 v1.0B0004.1', 'Launch Site': 'CCAFS', 'Payload': 'Dragon', 'Payload mass': 0, 'Orbit': 'LEO', 'Customer': 'NASA', 'Launch outcome': 'Success', 'Booster landing': 'Failure'}\n",
      "{'Flight No.': '3', 'Date': '22 May 2012,07:44[17]', 'Time': '', 'Version Booster': 'F9 v1.0B0005.1', 'Launch Site': 'CCAFS', 'Payload': 'Dragon', 'Payload mass': '525 kg', 'Orbit': 'LEO', 'Customer': 'NASA', 'Launch outcome': 'Success', 'Booster landing': 'No attempt\\n'}\n",
      "{'Flight No.': '4', 'Date': '8 October 2012,00:35[21]', 'Time': '', 'Version Booster': 'F9 v1.0B0006.1', 'Launch Site': 'CCAFS', 'Payload': 'SpaceX CRS-1', 'Payload mass': '4,700 kg', 'Orbit': 'LEO', 'Customer': 'NASA', 'Launch outcome': 'Success\\n', 'Booster landing': 'No attempt'}\n",
      "{'Flight No.': '5', 'Date': '1 March 2013,15:10', 'Time': '', 'Version Booster': 'F9 v1.0B0007.1', 'Launch Site': 'CCAFS', 'Payload': 'SpaceX CRS-2', 'Payload mass': '4,877 kg', 'Orbit': 'LEO', 'Customer': 'NASA', 'Launch outcome': 'Success\\n', 'Booster landing': 'No attempt\\n'}\n",
      "{'Flight No.': '6', 'Date': '29 September 2013,16:00[30]', 'Time': '', 'Version Booster': 'F9 v1.1B1003', 'Launch Site': 'VAFB', 'Payload': 'CASSIOPE', 'Payload mass': '500 kg', 'Orbit': 'Polar orbit', 'Customer': 'MDA', 'Launch outcome': 'Success', 'Booster landing': 'Uncontrolled'}\n",
      "{'Flight No.': '7', 'Date': '3 December 2013,22:41[34]', 'Time': '', 'Version Booster': 'F9 v1.1', 'Launch Site': 'CCAFS', 'Payload': 'SES-8', 'Payload mass': '3,170 kg', 'Orbit': 'GTO', 'Customer': 'SES', 'Launch outcome': 'Success', 'Booster landing': 'No attempt'}\n",
      "{'Flight No.': '8', 'Date': '6 January 2014,22:06[41]', 'Time': '', 'Version Booster': 'F9 v1.1', 'Launch Site': 'CCAFS', 'Payload': 'Thaicom 6', 'Payload mass': '3,325 kg', 'Orbit': 'GTO', 'Customer': 'Thaicom', 'Launch outcome': 'Success', 'Booster landing': 'No attempt'}\n",
      "{'Flight No.': '9', 'Date': '18 April 2014,19:25[21]', 'Time': '', 'Version Booster': 'F9 v1.1', 'Launch Site': 'Cape Canaveral', 'Payload': 'SpaceX CRS-3', 'Payload mass': '2,296 kg', 'Orbit': 'LEO', 'Customer': 'NASA', 'Launch outcome': 'Success\\n', 'Booster landing': 'Controlled'}\n",
      "{'Flight No.': '10', 'Date': '14 July 2014,15:15', 'Time': '', 'Version Booster': 'F9 v1.1', 'Launch Site': 'Cape Canaveral', 'Payload': 'Orbcomm-OG2', 'Payload mass': '1,316 kg', 'Orbit': 'LEO', 'Customer': 'Orbcomm', 'Launch outcome': 'Success', 'Booster landing': 'Controlled'}\n",
      "{'Flight No.': '11', 'Date': '5 August 2014,08:00', 'Time': '', 'Version Booster': 'F9 v1.1', 'Launch Site': 'Cape Canaveral', 'Payload': 'AsiaSat 8', 'Payload mass': '4,535 kg', 'Orbit': 'GTO', 'Customer': 'AsiaSat', 'Launch outcome': 'Success', 'Booster landing': 'No attempt'}\n",
      "{'Flight No.': '12', 'Date': '7 September 2014,05:00', 'Time': '', 'Version Booster': 'F9 v1.1', 'Launch Site': 'Cape Canaveral', 'Payload': 'AsiaSat 6', 'Payload mass': '4,428 kg', 'Orbit': 'GTO', 'Customer': 'AsiaSat', 'Launch outcome': 'Success', 'Booster landing': 'No attempt\\n'}\n",
      "{'Flight No.': '13', 'Date': '21 September 2014,05:52[21]', 'Time': '', 'Version Booster': 'F9 v1.1', 'Launch Site': 'Cape Canaveral', 'Payload': 'SpaceX CRS-4', 'Payload mass': '2,216 kg', 'Orbit': 'LEO', 'Customer': 'NASA', 'Launch outcome': 'Success', 'Booster landing': 'Uncontrolled'}\n",
      "{'Flight No.': '14', 'Date': '10 January 2015,09:47[67]', 'Time': '', 'Version Booster': 'F9 v1.1', 'Launch Site': 'Cape Canaveral', 'Payload': 'SpaceX CRS-5', 'Payload mass': '2,395 kg', 'Orbit': 'LEO', 'Customer': 'NASA', 'Launch outcome': 'Success', 'Booster landing': 'Failure '}\n",
      "{'Flight No.': '15', 'Date': '11 February 2015,23:03[72]', 'Time': '', 'Version Booster': 'F9 v1.1', 'Launch Site': 'Cape Canaveral', 'Payload': 'DSCOVR', 'Payload mass': '570 kg', 'Orbit': 'HEO', 'Customer': 'USAF', 'Launch outcome': 'Success\\n', 'Booster landing': 'Controlled'}\n",
      "{'Flight No.': '16', 'Date': '2 March 2015,03:50[21][76]', 'Time': '', 'Version Booster': 'F9 v1.1', 'Launch Site': 'Cape Canaveral', 'Payload': 'ABS-3A', 'Payload mass': '4,159 kg', 'Orbit': 'GTO', 'Customer': 'ABS', 'Launch outcome': 'Success\\n', 'Booster landing': 'No attempt'}\n",
      "{'Flight No.': '17', 'Date': '14 April 2015,20:10[21]', 'Time': '', 'Version Booster': 'F9 v1.1', 'Launch Site': 'Cape Canaveral', 'Payload': 'SpaceX CRS-6', 'Payload mass': '1,898 kg', 'Orbit': 'LEO', 'Customer': 'NASA', 'Launch outcome': 'Success\\n', 'Booster landing': 'Failure'}\n",
      "{'Flight No.': '18', 'Date': '27 April 2015,23:03[86]', 'Time': '', 'Version Booster': 'F9 v1.1', 'Launch Site': 'Cape Canaveral', 'Payload': 'TürkmenÄlem 52°E / MonacoSAT', 'Payload mass': '4,707 kg', 'Orbit': 'GTO', 'Customer': None, 'Launch outcome': 'Success\\n', 'Booster landing': 'No attempt'}\n",
      "{'Flight No.': '19', 'Date': '28 June 2015,14:21[21][91]', 'Time': '', 'Version Booster': 'F9 v1.1', 'Launch Site': 'Cape Canaveral', 'Payload': 'SpaceX CRS-7', 'Payload mass': '1,952 kg', 'Orbit': 'LEO', 'Customer': 'NASA', 'Launch outcome': 'Failure', 'Booster landing': 'Precluded'}\n",
      "{'Flight No.': '20', 'Date': '22 December 2015,01:29[97]', 'Time': '', 'Version Booster': 'F9 FT', 'Launch Site': 'Cape Canaveral', 'Payload': 'Orbcomm-OG2', 'Payload mass': '2,034 kg', 'Orbit': 'LEO', 'Customer': 'Orbcomm', 'Launch outcome': 'Success\\n', 'Booster landing': 'Success'}\n",
      "{'Flight No.': '21', 'Date': '17 January 2016,18:42[21]', 'Time': '', 'Version Booster': 'F9 v1.1', 'Launch Site': 'VAFB', 'Payload': 'Jason-3', 'Payload mass': '553 kg', 'Orbit': 'LEO', 'Customer': 'NASA', 'Launch outcome': 'Success\\n', 'Booster landing': 'Failure'}\n",
      "{'Flight No.': '22', 'Date': '4 March 2016,23:35[21]', 'Time': '', 'Version Booster': 'F9 FT', 'Launch Site': 'Cape Canaveral', 'Payload': 'SES-9', 'Payload mass': '5,271 kg', 'Orbit': 'GTO', 'Customer': 'SES', 'Launch outcome': 'Success\\n', 'Booster landing': 'Failure'}\n",
      "{'Flight No.': '23', 'Date': '8 April 2016,20:43[21]', 'Time': '', 'Version Booster': 'F9 FT', 'Launch Site': 'Cape Canaveral', 'Payload': 'SpaceX CRS-8', 'Payload mass': '3,136 kg', 'Orbit': 'LEO', 'Customer': 'NASA', 'Launch outcome': 'Success', 'Booster landing': 'Success'}\n",
      "{'Flight No.': '24', 'Date': '6 May 2016,05:21[21]', 'Time': '', 'Version Booster': 'F9 FT', 'Launch Site': 'Cape Canaveral', 'Payload': 'JCSAT-14', 'Payload mass': '4,696 kg', 'Orbit': 'GTO', 'Customer': 'SKY Perfect JSAT Group', 'Launch outcome': 'Success\\n', 'Booster landing': 'Success'}\n",
      "{'Flight No.': '25', 'Date': '27 May 2016,21:39[128]', 'Time': '', 'Version Booster': 'F9 FT', 'Launch Site': 'Cape Canaveral', 'Payload': 'Thaicom 8', 'Payload mass': '3,100 kg', 'Orbit': 'GTO', 'Customer': 'Thaicom', 'Launch outcome': 'Success\\n', 'Booster landing': 'Success'}\n",
      "{'Flight No.': '26', 'Date': '15 June 2016,14:29[21]', 'Time': '', 'Version Booster': 'F9 FT', 'Launch Site': 'Cape Canaveral', 'Payload': 'ABS-2A', 'Payload mass': '3,600 kg', 'Orbit': 'GTO', 'Customer': 'ABS', 'Launch outcome': 'Success\\n', 'Booster landing': 'Failure'}\n",
      "{'Flight No.': '27', 'Date': '18 July 2016,04:45[21]', 'Time': '', 'Version Booster': 'F9 FT', 'Launch Site': 'Cape Canaveral', 'Payload': 'SpaceX CRS-9', 'Payload mass': '2,257 kg', 'Orbit': 'LEO', 'Customer': 'NASA', 'Launch outcome': 'Success\\n', 'Booster landing': 'Success'}\n",
      "{'Flight No.': '28', 'Date': '14 August 2016,05:26', 'Time': '', 'Version Booster': 'F9 FT', 'Launch Site': 'Cape Canaveral', 'Payload': 'JCSAT-16', 'Payload mass': '4,600 kg', 'Orbit': 'GTO', 'Customer': 'SKY Perfect JSAT Group', 'Launch outcome': 'Success\\n', 'Booster landing': 'Success'}\n",
      "{'Flight No.': '29', 'Date': '14 January 2017,17:54', 'Time': '', 'Version Booster': 'F9 FT', 'Launch Site': 'VAFB', 'Payload': 'Iridium NEXT', 'Payload mass': '9,600 kg', 'Orbit': 'Polar', 'Customer': 'Iridium Communications', 'Launch outcome': 'Success\\n', 'Booster landing': 'Success'}\n",
      "{'Flight No.': '30', 'Date': '19 February 2017,14:39', 'Time': '', 'Version Booster': 'F9 FT', 'Launch Site': 'KSC', 'Payload': 'SpaceX CRS-10', 'Payload mass': '2,490 kg', 'Orbit': 'LEO', 'Customer': 'NASA', 'Launch outcome': 'Success\\n', 'Booster landing': 'Success'}\n",
      "{'Flight No.': '31', 'Date': '16 March 2017,06:00', 'Time': '', 'Version Booster': 'F9 FT', 'Launch Site': 'KSC', 'Payload': 'EchoStar 23', 'Payload mass': '5,600 kg', 'Orbit': 'GTO', 'Customer': 'EchoStar', 'Launch outcome': 'Success\\n', 'Booster landing': 'No attempt'}\n",
      "{'Flight No.': '32', 'Date': '30 March 2017,22:27', 'Time': '', 'Version Booster': 'F9 FT♺', 'Launch Site': 'KSC', 'Payload': 'SES-10', 'Payload mass': '5,300 kg', 'Orbit': 'GTO', 'Customer': 'SES', 'Launch outcome': 'Success', 'Booster landing': 'Success'}\n",
      "{'Flight No.': '33', 'Date': '1 May 2017,11:15', 'Time': '', 'Version Booster': 'F9 FT', 'Launch Site': 'KSC', 'Payload': 'NROL-76', 'Payload mass': 'C', 'Orbit': 'LEO', 'Customer': 'NRO', 'Launch outcome': 'Success\\n', 'Booster landing': 'Success'}\n",
      "{'Flight No.': '34', 'Date': '15 May 2017,23:21', 'Time': '', 'Version Booster': 'F9 FT', 'Launch Site': 'KSC', 'Payload': 'Inmarsat-5 F4', 'Payload mass': '6,070 kg', 'Orbit': 'GTO', 'Customer': 'Inmarsat', 'Launch outcome': 'Success\\n', 'Booster landing': 'No attempt'}\n",
      "{'Flight No.': '35', 'Date': '3 June 2017,21:07', 'Time': '', 'Version Booster': 'F9 FT', 'Launch Site': 'KSC', 'Payload': 'SpaceX CRS-11', 'Payload mass': '2,708 kg', 'Orbit': 'LEO', 'Customer': 'NASA', 'Launch outcome': 'Success\\n', 'Booster landing': 'Success'}\n",
      "{'Flight No.': '36', 'Date': '23 June 2017,19:10', 'Time': '', 'Version Booster': 'F9 FTB1029.2', 'Launch Site': 'KSC', 'Payload': 'BulgariaSat-1', 'Payload mass': '3,669 kg', 'Orbit': 'GTO', 'Customer': 'Bulsatcom', 'Launch outcome': 'Success\\n', 'Booster landing': 'Success'}\n",
      "{'Flight No.': '37', 'Date': '25 June 2017,20:25', 'Time': '', 'Version Booster': 'F9 FT', 'Launch Site': 'VAFB', 'Payload': 'Iridium NEXT', 'Payload mass': '9,600 kg', 'Orbit': 'LEO', 'Customer': 'Iridium Communications', 'Launch outcome': 'Success\\n', 'Booster landing': 'Success'}\n",
      "{'Flight No.': '38', 'Date': '5 July 2017,23:38', 'Time': '', 'Version Booster': 'F9 FT', 'Launch Site': 'KSC', 'Payload': 'Intelsat 35e', 'Payload mass': '6,761 kg', 'Orbit': 'GTO', 'Customer': 'Intelsat', 'Launch outcome': 'Success\\n', 'Booster landing': 'No attempt'}\n",
      "{'Flight No.': '39', 'Date': '14 August 2017,16:31', 'Time': '', 'Version Booster': 'F9 B4', 'Launch Site': 'KSC', 'Payload': 'SpaceX CRS-12', 'Payload mass': '3,310 kg', 'Orbit': 'LEO', 'Customer': 'NASA', 'Launch outcome': 'Success\\n', 'Booster landing': 'Success'}\n",
      "{'Flight No.': '40', 'Date': '24 August 2017,18:51', 'Time': '', 'Version Booster': 'F9 FT', 'Launch Site': 'VAFB', 'Payload': 'Formosat-5', 'Payload mass': '475 kg', 'Orbit': 'SSO', 'Customer': 'NSPO', 'Launch outcome': 'Success\\n', 'Booster landing': 'Success'}\n",
      "{'Flight No.': '41', 'Date': '7 September 2017,14:00[215]', 'Time': '', 'Version Booster': 'F9 B4', 'Launch Site': 'KSC', 'Payload': 'Boeing X-37B', 'Payload mass': '4,990 kg', 'Orbit': 'LEO', 'Customer': 'USAF', 'Launch outcome': 'Success\\n', 'Booster landing': 'Success'}\n",
      "{'Flight No.': '42', 'Date': '9 October 2017,12:37', 'Time': '', 'Version Booster': 'F9 B4', 'Launch Site': 'VAFB', 'Payload': 'Iridium NEXT', 'Payload mass': '9,600 kg', 'Orbit': 'Polar', 'Customer': 'Iridium Communications', 'Launch outcome': 'Success\\n', 'Booster landing': 'Success'}\n",
      "{'Flight No.': '43', 'Date': '11 October 2017,22:53:00', 'Time': '', 'Version Booster': 'F9 FTB1031.2', 'Launch Site': 'KSC', 'Payload': 'SES-11', 'Payload mass': '5,200 kg', 'Orbit': 'GTO', 'Customer': 'SES S.A.', 'Launch outcome': 'Success\\n', 'Booster landing': 'Success'}\n",
      "{'Flight No.': '44', 'Date': '30 October 2017,19:34', 'Time': '', 'Version Booster': 'F9 B4', 'Launch Site': 'KSC', 'Payload': 'Koreasat 5A', 'Payload mass': '3,500 kg', 'Orbit': 'GTO', 'Customer': 'KT Corporation', 'Launch outcome': 'Success\\n', 'Booster landing': 'Success'}\n",
      "{'Flight No.': '45', 'Date': '15 December 2017,15:36[226]', 'Time': '', 'Version Booster': 'F9 FTB1035.2', 'Launch Site': 'Cape Canaveral', 'Payload': 'SpaceX CRS-13', 'Payload mass': '2,205 kg', 'Orbit': 'LEO', 'Customer': 'NASA', 'Launch outcome': 'Success\\n', 'Booster landing': 'Success'}\n",
      "{'Flight No.': '46', 'Date': '23 December 2017,01:27[229]', 'Time': '', 'Version Booster': 'F9 FTB1036.2', 'Launch Site': 'VAFB', 'Payload': 'Iridium NEXT', 'Payload mass': '9,600 kg', 'Orbit': 'Polar', 'Customer': 'Iridium Communications', 'Launch outcome': 'Success', 'Booster landing': 'Controlled'}\n",
      "{'Flight No.': '47', 'Date': '8 January 2018,01:00[237]', 'Time': '', 'Version Booster': 'F9 B4', 'Launch Site': 'CCAFS', 'Payload': 'Zuma', 'Payload mass': 'C', 'Orbit': 'LEO', 'Customer': 'Northrop Grumman', 'Launch outcome': 'Success', 'Booster landing': 'Success'}\n",
      "{'Flight No.': '48', 'Date': '31 January 2018,21:25[244]', 'Time': '', 'Version Booster': 'F9 FTB1032.2', 'Launch Site': 'CCAFS', 'Payload': 'GovSat-1', 'Payload mass': '4,230 kg', 'Orbit': 'GTO', 'Customer': 'SES', 'Launch outcome': 'Success', 'Booster landing': 'Controlled'}\n",
      "{'Flight No.': '49', 'Date': '22 February 2018,14:17[267]', 'Time': '', 'Version Booster': 'F9 FTB1038.2', 'Launch Site': 'VAFB', 'Payload': 'Paz', 'Payload mass': '2,150 kg', 'Orbit': 'SSO', 'Customer': 'Hisdesat', 'Launch outcome': 'Success', 'Booster landing': 'No attempt'}\n",
      "{'Flight No.': '50', 'Date': '6 March 2018,05:33[276]', 'Time': '', 'Version Booster': 'F9 B4', 'Launch Site': 'CCAFS', 'Payload': 'Hispasat 30W-6', 'Payload mass': '6,092 kg', 'Orbit': 'GTO', 'Customer': 'Hispasat', 'Launch outcome': 'Success', 'Booster landing': 'No attempt'}\n",
      "{'Flight No.': '51', 'Date': '30 March 2018,14:14[285]', 'Time': '', 'Version Booster': 'F9 B4B1041.2', 'Launch Site': 'VAFB', 'Payload': 'Iridium NEXT', 'Payload mass': '9,600 kg', 'Orbit': 'Polar', 'Customer': 'Iridium Communications', 'Launch outcome': 'Success', 'Booster landing': 'No attempt'}\n",
      "{'Flight No.': '52', 'Date': '2 April 2018,20:30[291]', 'Time': '', 'Version Booster': 'F9 B4B1039.2', 'Launch Site': 'CCAFS', 'Payload': 'SpaceX CRS-14', 'Payload mass': '2,647 kg', 'Orbit': 'LEO', 'Customer': 'NASA', 'Launch outcome': 'Success', 'Booster landing': 'No attempt'}\n",
      "{'Flight No.': '53', 'Date': '18 April 2018,22:51[303]', 'Time': '', 'Version Booster': 'F9 B4', 'Launch Site': 'CCAFS', 'Payload': 'Transiting Exoplanet Survey Satellite', 'Payload mass': '362 kg', 'Orbit': 'HEO', 'Customer': 'NASA', 'Launch outcome': 'Success', 'Booster landing': 'Success'}\n",
      "{'Flight No.': '54', 'Date': '11 May 2018,20:14[310]', 'Time': '', 'Version Booster': 'F9 B5B1046.1', 'Launch Site': 'KSC', 'Payload': 'Bangabandhu-1', 'Payload mass': '3,600 kg', 'Orbit': 'GTO', 'Customer': 'Thales-Alenia', 'Launch outcome': 'Success', 'Booster landing': 'Success'}\n",
      "{'Flight No.': '55', 'Date': '22 May 2018,19:47[321]', 'Time': '', 'Version Booster': 'F9 B4B1043.2', 'Launch Site': 'VAFB', 'Payload': 'Iridium NEXT', 'Payload mass': '6,460 kg', 'Orbit': 'Polar', 'Customer': 'Iridium Communications', 'Launch outcome': 'Success', 'Booster landing': 'No attempt'}\n",
      "{'Flight No.': '56', 'Date': '4 June 2018,04:45[330]', 'Time': '', 'Version Booster': 'F9 B4B1040.2', 'Launch Site': 'CCAFS', 'Payload': 'SES-12', 'Payload mass': '5,384 kg', 'Orbit': 'GTO', 'Customer': 'SES', 'Launch outcome': 'Success', 'Booster landing': 'No attempt'}\n",
      "{'Flight No.': '57', 'Date': '29 June 2018,09:42[335]', 'Time': '', 'Version Booster': 'F9 B4B1045.2', 'Launch Site': 'CCAFS', 'Payload': 'SpaceX CRS-15', 'Payload mass': '2,697 kg', 'Orbit': 'LEO', 'Customer': 'NASA', 'Launch outcome': 'Success', 'Booster landing': 'No attempt'}\n",
      "{'Flight No.': '58', 'Date': '22 July 2018,05:50[340]', 'Time': '', 'Version Booster': 'F9 B5', 'Launch Site': 'CCAFS', 'Payload': 'Telstar 19V', 'Payload mass': '7,075 kg', 'Orbit': 'GTO', 'Customer': 'Telesat', 'Launch outcome': 'Success', 'Booster landing': 'Success'}\n",
      "{'Flight No.': '59', 'Date': '25 July 2018,11:39[348]', 'Time': '', 'Version Booster': 'F9 B5B1048', 'Launch Site': 'VAFB', 'Payload': 'Iridium NEXT', 'Payload mass': '9,600 kg', 'Orbit': 'Polar', 'Customer': 'Iridium Communications', 'Launch outcome': 'Success', 'Booster landing': 'Success'}\n",
      "{'Flight No.': '60', 'Date': '7 August 2018,05:18[353]', 'Time': '', 'Version Booster': 'F9 B5B1046.2', 'Launch Site': 'CCAFS', 'Payload': 'Merah Putih', 'Payload mass': '5,800 kg', 'Orbit': 'GTO', 'Customer': 'Telkom Indonesia', 'Launch outcome': 'Success', 'Booster landing': 'Success'}\n",
      "{'Flight No.': '61', 'Date': '10 September 2018,04:45[361]', 'Time': '', 'Version Booster': 'F9 B5', 'Launch Site': 'CCAFS', 'Payload': 'Telstar 18V', 'Payload mass': '7,060 kg', 'Orbit': 'GTO', 'Customer': 'Telesat', 'Launch outcome': 'Success', 'Booster landing': 'Success'}\n",
      "{'Flight No.': '62', 'Date': '8 October 2018,02:22[363]', 'Time': '', 'Version Booster': 'F9 B5B1048.2', 'Launch Site': 'VAFB', 'Payload': 'SAOCOM 1A', 'Payload mass': '3,000 kg', 'Orbit': 'SSO', 'Customer': 'CONAE', 'Launch outcome': 'Success', 'Booster landing': 'Success'}\n",
      "{'Flight No.': '63', 'Date': '15 November 2018,20:46[367]', 'Time': '', 'Version Booster': 'F9 B5B1047.2', 'Launch Site': 'KSC', 'Payload': \"Es'hail 2\", 'Payload mass': '5,300 kg', 'Orbit': 'GTO', 'Customer': \"Es'hailSat\", 'Launch outcome': 'Success', 'Booster landing': 'Success'}\n",
      "{'Flight No.': '64', 'Date': '3 December 2018,18:34:05', 'Time': '', 'Version Booster': 'F9 B5B1046.3', 'Launch Site': 'VAFB', 'Payload': 'SSO-A', 'Payload mass': '~4,000 kg', 'Orbit': 'SSO', 'Customer': 'Spaceflight Industries', 'Launch outcome': 'Success', 'Booster landing': 'Success'}\n",
      "{'Flight No.': '65', 'Date': '5 December 2018,18:16', 'Time': '', 'Version Booster': 'F9 B5', 'Launch Site': 'CCAFS', 'Payload': 'SpaceX CRS-16', 'Payload mass': '2,500 kg', 'Orbit': 'LEO', 'Customer': 'NASA', 'Launch outcome': 'Success\\n', 'Booster landing': 'Failure'}\n",
      "{'Flight No.': '66', 'Date': '23 December 2018,13:51[386]', 'Time': '', 'Version Booster': 'F9 B5', 'Launch Site': 'CCAFS', 'Payload': 'GPS III', 'Payload mass': '4,400 kg', 'Orbit': 'MEO', 'Customer': 'USAF', 'Launch outcome': 'Success', 'Booster landing': 'No attempt'}\n",
      "{'Flight No.': '67', 'Date': '11 January 2019,15:31[396]', 'Time': '', 'Version Booster': 'F9 B5B1049.2', 'Launch Site': 'VAFB', 'Payload': 'Iridium NEXT', 'Payload mass': '9,600 kg', 'Orbit': 'Polar', 'Customer': 'Iridium Communications', 'Launch outcome': 'Success\\n', 'Booster landing': 'Success'}\n",
      "{'Flight No.': '68', 'Date': '22 February 2019,01:45[398]', 'Time': '', 'Version Booster': 'F9 B5B1048.3', 'Launch Site': 'CCAFS', 'Payload': 'Nusantara Satu', 'Payload mass': '4,850 kg', 'Orbit': 'GTO', 'Customer': 'PSN', 'Launch outcome': 'Success\\n', 'Booster landing': 'Success'}\n",
      "{'Flight No.': '69', 'Date': '2 March 2019,07:49[412]', 'Time': '', 'Version Booster': 'F9 B5[268]', 'Launch Site': 'KSC', 'Payload': 'Crew Dragon Demo-1', 'Payload mass': '12,055 kg', 'Orbit': 'LEO', 'Customer': 'NASA', 'Launch outcome': 'Success\\n', 'Booster landing': 'Success'}\n",
      "{'Flight No.': '70', 'Date': '4 May 2019,06:48', 'Time': '', 'Version Booster': 'F9 B5', 'Launch Site': 'CCAFS', 'Payload': 'SpaceX CRS-17', 'Payload mass': '2,495 kg', 'Orbit': 'LEO', 'Customer': 'NASA', 'Launch outcome': 'Success\\n', 'Booster landing': 'Success'}\n",
      "{'Flight No.': '71', 'Date': '24 May 2019,02:30', 'Time': '', 'Version Booster': 'F9 B5B1049.3', 'Launch Site': 'CCAFS', 'Payload': 'Starlink', 'Payload mass': '13,620 kg', 'Orbit': 'LEO', 'Customer': 'SpaceX', 'Launch outcome': 'Success\\n', 'Booster landing': 'Success'}\n",
      "{'Flight No.': '72', 'Date': '12 June 2019,14:17', 'Time': '', 'Version Booster': 'F9 B5B1051.2', 'Launch Site': 'VAFB', 'Payload': 'RADARSAT Constellation', 'Payload mass': '4,200 kg', 'Orbit': 'SSO', 'Customer': 'Canadian Space Agency', 'Launch outcome': 'Success\\n', 'Booster landing': 'Success'}\n",
      "{'Flight No.': '73', 'Date': '25 July 2019,22:01[464]', 'Time': '', 'Version Booster': 'F9 B5B1056.2', 'Launch Site': 'CCAFS', 'Payload': 'SpaceX CRS-18', 'Payload mass': '2,268 kg', 'Orbit': 'LEO', 'Customer': 'NASA', 'Launch outcome': 'Success\\n', 'Booster landing': 'Success'}\n",
      "{'Flight No.': '74', 'Date': '6 August 2019,23:23[471]', 'Time': '', 'Version Booster': 'F9 B5B1047.3', 'Launch Site': 'CCAFS', 'Payload': 'AMOS-17', 'Payload mass': '6,500 kg', 'Orbit': 'GTO', 'Customer': 'Spacecom', 'Launch outcome': 'Success\\n', 'Booster landing': 'No attempt'}\n",
      "{'Flight No.': '75', 'Date': '11 November 2019,14:56[479]', 'Time': '', 'Version Booster': 'F9 B5', 'Launch Site': 'CCAFS', 'Payload': 'Starlink', 'Payload mass': '15,600 kg', 'Orbit': 'LEO', 'Customer': 'SpaceX', 'Launch outcome': 'Success\\n', 'Booster landing': 'Success'}\n",
      "{'Flight No.': '76', 'Date': '5 December 2019,17:29[481]', 'Time': '', 'Version Booster': 'F9 B5', 'Launch Site': 'CCAFS', 'Payload': 'SpaceX CRS-19', 'Payload mass': '2,617 kg', 'Orbit': 'LEO', 'Customer': 'NASA', 'Launch outcome': 'Success\\n', 'Booster landing': 'Success'}\n",
      "{'Flight No.': '77', 'Date': '17 December 2019,00:10[486]', 'Time': '', 'Version Booster': 'F9 B5B1056.3', 'Launch Site': 'CCAFS', 'Payload': 'JCSat-18', 'Payload mass': '6,956 kg', 'Orbit': 'GTO', 'Customer': 'Sky Perfect JSAT', 'Launch outcome': 'Success\\n', 'Booster landing': 'Success'}\n",
      "{'Flight No.': '78', 'Date': '7 January 2020,02:19:21[492]', 'Time': '', 'Version Booster': 'F9 B5', 'Launch Site': 'CCAFS', 'Payload': 'Starlink', 'Payload mass': '15,600 kg', 'Orbit': 'LEO', 'Customer': 'SpaceX', 'Launch outcome': 'Success\\n', 'Booster landing': 'Success'}\n",
      "{'Flight No.': '79', 'Date': '19 January 2020,15:30[494]', 'Time': '', 'Version Booster': 'F9 B5', 'Launch Site': 'KSC', 'Payload': 'Crew Dragon in-flight abort test', 'Payload mass': '12,050 kg', 'Orbit': 'Sub-orbital', 'Customer': 'NASA', 'Launch outcome': 'Success\\n', 'Booster landing': 'No attempt\\n'}\n",
      "{'Flight No.': '80', 'Date': '29 January 2020,14:07[501]', 'Time': '', 'Version Booster': 'F9 B5', 'Launch Site': 'CCAFS', 'Payload': 'Starlink', 'Payload mass': '15,600 kg', 'Orbit': 'LEO', 'Customer': 'SpaceX', 'Launch outcome': 'Success\\n', 'Booster landing': 'Success'}\n",
      "{'Flight No.': '81', 'Date': '17 February 2020,15:05[503]', 'Time': '', 'Version Booster': 'F9 B5', 'Launch Site': 'CCAFS', 'Payload': 'Starlink', 'Payload mass': '15,600 kg', 'Orbit': 'LEO', 'Customer': 'SpaceX', 'Launch outcome': 'Success\\n', 'Booster landing': 'Failure'}\n",
      "{'Flight No.': '82', 'Date': '7 March 2020,04:50[506]', 'Time': '', 'Version Booster': 'F9 B5', 'Launch Site': 'CCAFS', 'Payload': 'SpaceX CRS-20', 'Payload mass': '1,977 kg', 'Orbit': 'LEO', 'Customer': 'NASA', 'Launch outcome': 'Success\\n', 'Booster landing': 'Success'}\n",
      "{'Flight No.': '83', 'Date': '18 March 2020,12:16[510]', 'Time': '', 'Version Booster': 'F9 B5', 'Launch Site': 'KSC', 'Payload': 'Starlink', 'Payload mass': '15,600 kg', 'Orbit': 'LEO', 'Customer': 'SpaceX', 'Launch outcome': 'Success\\n', 'Booster landing': 'Failure'}\n",
      "{'Flight No.': '84', 'Date': '22 April 2020,19:30[514]', 'Time': '', 'Version Booster': 'F9 B5', 'Launch Site': 'KSC', 'Payload': 'Starlink', 'Payload mass': '15,600 kg', 'Orbit': 'LEO', 'Customer': 'SpaceX', 'Launch outcome': 'Success\\n', 'Booster landing': 'Success'}\n",
      "{'Flight No.': '85', 'Date': '30 May 2020,19:22[517]', 'Time': '', 'Version Booster': 'F9 B5', 'Launch Site': 'KSC', 'Payload': 'Crew Dragon Demo-2', 'Payload mass': '12,530 kg', 'Orbit': 'LEO', 'Customer': 'NASA', 'Launch outcome': 'Success\\n', 'Booster landing': 'Success'}\n",
      "{'Flight No.': '86', 'Date': '4 June 2020,01:25[521]', 'Time': '', 'Version Booster': 'F9 B5', 'Launch Site': 'CCAFS', 'Payload': 'Starlink', 'Payload mass': '15,600 kg', 'Orbit': 'LEO', 'Customer': 'SpaceX', 'Launch outcome': 'Success\\n', 'Booster landing': 'Success'}\n",
      "{'Flight No.': '87', 'Date': '13 June 2020,09:21[523]', 'Time': '', 'Version Booster': 'F9 B5', 'Launch Site': 'CCAFS', 'Payload': 'Starlink', 'Payload mass': '15,410 kg', 'Orbit': 'LEO', 'Customer': 'SpaceX', 'Launch outcome': 'Success\\n', 'Booster landing': 'Success'}\n",
      "{'Flight No.': '88', 'Date': '30 June 2020,20:10:46[529]', 'Time': '', 'Version Booster': 'F9 B5', 'Launch Site': 'CCAFS', 'Payload': 'GPS III', 'Payload mass': '4,311 kg', 'Orbit': 'MEO', 'Customer': 'U.S. Space Force', 'Launch outcome': 'Success\\n', 'Booster landing': 'Success'}\n",
      "{'Flight No.': '89', 'Date': '20 July 2020,21:30[543]', 'Time': '', 'Version Booster': 'F9 B5B1058.2', 'Launch Site': 'CCAFS', 'Payload': 'ANASIS-II', 'Payload mass': '5,000–6,000 kg', 'Orbit': 'GTO', 'Customer': 'Republic of Korea Army', 'Launch outcome': 'Success\\n', 'Booster landing': 'Success'}\n",
      "{'Flight No.': '90', 'Date': '7 August 2020,05:12[549]', 'Time': '', 'Version Booster': 'F9 B5', 'Launch Site': 'KSC', 'Payload': 'Starlink', 'Payload mass': '14,932 kg', 'Orbit': 'LEO', 'Customer': 'SpaceX', 'Launch outcome': 'Success\\n', 'Booster landing': 'Success'}\n",
      "{'Flight No.': '91', 'Date': '18 August 2020 14:31[553]', 'Time': '', 'Version Booster': 'F9 B5B1049.6', 'Launch Site': 'CCAFS', 'Payload': 'Starlink', 'Payload mass': '~15,440 kg', 'Orbit': 'LEO', 'Customer': 'SpaceX', 'Launch outcome': 'Success\\n', 'Booster landing': 'Success'}\n",
      "{'Flight No.': '92', 'Date': '30 August 202023:18[555]', 'Time': '', 'Version Booster': 'F9 B5', 'Launch Site': 'CCAFS', 'Payload': 'SAOCOM 1B', 'Payload mass': '3,130 kg', 'Orbit': 'SSO', 'Customer': 'CONAE', 'Launch outcome': 'Success\\n', 'Booster landing': 'Success'}\n",
      "{'Flight No.': '93', 'Date': '3 September 202012:46:14[562]', 'Time': '', 'Version Booster': 'F9 B5B1060.2', 'Launch Site': 'KSC', 'Payload': 'Starlink', 'Payload mass': '15,600 kg', 'Orbit': 'LEO', 'Customer': 'SpaceX', 'Launch outcome': 'Success\\n', 'Booster landing': 'Success'}\n",
      "{'Flight No.': '94', 'Date': '6 October 202011:29:34[564]', 'Time': '', 'Version Booster': 'F9 B5B1058.3', 'Launch Site': 'KSC', 'Payload': 'Starlink', 'Payload mass': '15,600 kg', 'Orbit': 'LEO', 'Customer': 'SpaceX', 'Launch outcome': 'Success\\n', 'Booster landing': 'Success'}\n",
      "{'Flight No.': '95', 'Date': '18 October 202012:25:57[567]', 'Time': '', 'Version Booster': 'F9 B5B1051.6', 'Launch Site': 'KSC', 'Payload': 'Starlink', 'Payload mass': '15,600 kg', 'Orbit': 'LEO', 'Customer': 'SpaceX', 'Launch outcome': 'Success\\n', 'Booster landing': 'Success'}\n",
      "{'Flight No.': '96', 'Date': '24 October 202015:31:34[570]', 'Time': '', 'Version Booster': 'F9 B5', 'Launch Site': 'CCAFS', 'Payload': 'Starlink', 'Payload mass': '15,600 kg', 'Orbit': 'LEO', 'Customer': 'SpaceX', 'Launch outcome': 'Success\\n', 'Booster landing': 'Success'}\n",
      "{'Flight No.': '97', 'Date': '5 November 202023:24:23[572]', 'Time': '', 'Version Booster': 'F9 B5', 'Launch Site': 'CCAFS', 'Payload': 'GPS III', 'Payload mass': '4,311 kg', 'Orbit': 'MEO', 'Customer': 'USSF', 'Launch outcome': 'Success\\n', 'Booster landing': 'Success'}\n",
      "{'Flight No.': '98', 'Date': '16 November 202000:27[581]', 'Time': '', 'Version Booster': 'F9 B5', 'Launch Site': 'KSC', 'Payload': 'Crew-1', 'Payload mass': '~12,500 kg', 'Orbit': 'LEO', 'Customer': 'NASA', 'Launch outcome': 'Success\\n', 'Booster landing': 'Success'}\n",
      "{'Flight No.': '99', 'Date': '21 November 202017:17:08[587]', 'Time': '', 'Version Booster': 'F9 B5', 'Launch Site': 'VAFB', 'Payload': 'Sentinel-6 Michael Freilich (Jason-CS A)', 'Payload mass': '1,192 kg', 'Orbit': 'LEO', 'Customer': 'NASA', 'Launch outcome': 'Success\\n', 'Booster landing': 'Success'}\n",
      "{'Flight No.': '100', 'Date': '25 November 202002:13[589]', 'Time': '', 'Version Booster': 'F9 B5 ♺', 'Launch Site': 'CCAFS', 'Payload': 'Starlink', 'Payload mass': '15,600 kg', 'Orbit': 'LEO', 'Customer': 'SpaceX', 'Launch outcome': 'Success\\n', 'Booster landing': 'Success'}\n",
      "{'Flight No.': '101', 'Date': '6 December 202016:17:08[591]', 'Time': '', 'Version Booster': 'F9 B5 ♺', 'Launch Site': 'KSC', 'Payload': 'SpaceX CRS-21', 'Payload mass': '2,972 kg', 'Orbit': 'LEO', 'Customer': 'NASA', 'Launch outcome': 'Success\\n', 'Booster landing': 'Success'}\n",
      "{'Flight No.': '102', 'Date': '13 December 202017:30:00[596]', 'Time': '', 'Version Booster': 'F9 B5 ♺', 'Launch Site': 'CCSFS', 'Payload': 'SXM-7', 'Payload mass': '7,000 kg', 'Orbit': 'GTO', 'Customer': 'Sirius XM', 'Launch outcome': 'Success\\n', 'Booster landing': 'Success'}\n",
      "{'Flight No.': '103', 'Date': '19 December 202014:00:00[602]', 'Time': '', 'Version Booster': 'F9 B5 ♺', 'Launch Site': 'KSC', 'Payload': 'NROL-108', 'Payload mass': 'C', 'Orbit': 'LEO', 'Customer': 'NRO', 'Launch outcome': 'Success\\n', 'Booster landing': 'Success'}\n",
      "{'Flight No.': '104', 'Date': '8 January 202102:15[604]', 'Time': '', 'Version Booster': 'F9 B5', 'Launch Site': 'CCSFS', 'Payload': 'Türksat 5A', 'Payload mass': '3,500 kg', 'Orbit': 'GTO', 'Customer': 'Türksat', 'Launch outcome': 'Success\\n', 'Booster landing': 'Success'}\n",
      "{'Flight No.': '105', 'Date': '20 January 202113:02[608]', 'Time': '', 'Version Booster': 'F9 B5B1051.8', 'Launch Site': 'KSC', 'Payload': 'Starlink', 'Payload mass': '15,600 kg', 'Orbit': 'LEO', 'Customer': 'SpaceX', 'Launch outcome': 'Success\\n', 'Booster landing': 'Success'}\n"
     ]
    },
    {
     "ename": "AttributeError",
     "evalue": "'NoneType' object has no attribute 'string'",
     "output_type": "error",
     "traceback": [
      "\u001b[0;31m---------------------------------------------------------------------------\u001b[0m",
      "\u001b[0;31mAttributeError\u001b[0m                            Traceback (most recent call last)",
      "\u001b[0;32m/tmp/ipykernel_69/2101470648.py\u001b[0m in \u001b[0;36m<module>\u001b[0;34m\u001b[0m\n\u001b[1;32m     54\u001b[0m \u001b[0;34m\u001b[0m\u001b[0m\n\u001b[1;32m     55\u001b[0m         \u001b[0;31m# Customer\u001b[0m\u001b[0;34m\u001b[0m\u001b[0;34m\u001b[0m\u001b[0;34m\u001b[0m\u001b[0m\n\u001b[0;32m---> 56\u001b[0;31m         \u001b[0mcustomer\u001b[0m \u001b[0;34m=\u001b[0m \u001b[0mrow\u001b[0m\u001b[0;34m[\u001b[0m\u001b[0;36m6\u001b[0m\u001b[0;34m]\u001b[0m\u001b[0;34m.\u001b[0m\u001b[0ma\u001b[0m\u001b[0;34m.\u001b[0m\u001b[0mstring\u001b[0m\u001b[0;34m\u001b[0m\u001b[0;34m\u001b[0m\u001b[0m\n\u001b[0m\u001b[1;32m     57\u001b[0m         \u001b[0mlaunch_dict\u001b[0m\u001b[0;34m[\u001b[0m\u001b[0;34m'Customer'\u001b[0m\u001b[0;34m]\u001b[0m \u001b[0;34m=\u001b[0m \u001b[0mcustomer\u001b[0m\u001b[0;34m\u001b[0m\u001b[0;34m\u001b[0m\u001b[0m\n\u001b[1;32m     58\u001b[0m \u001b[0;34m\u001b[0m\u001b[0m\n",
      "\u001b[0;31mAttributeError\u001b[0m: 'NoneType' object has no attribute 'string'"
     ]
    }
   ],
   "source": [
    "extracted_row = 0\n",
    "#Extract each table \n",
    "for table_number,table in enumerate(soup.find_all('table',\"wikitable plainrowheaders collapsible\")):\n",
    "   # get table row \n",
    "   for rows in table.find_all(\"tr\"):\n",
    "    #check to see if first table heading is as number corresponding to launch a number \n",
    "    if rows.th:\n",
    "        if rows.th.string:\n",
    "            flight_number=rows.th.string.strip()\n",
    "            flag=flight_number.isdigit()\n",
    "    else:\n",
    "        flag=False\n",
    "    #get table element \n",
    "    row=rows.find_all('td')\n",
    "    #if it is number save cells in a dictonary \n",
    "    if flag:\n",
    "        extracted_row += 1\n",
    "        # initialize the launch dictionary\n",
    "        launch_dict = {}\n",
    "        \n",
    "        # Flight Number value\n",
    "        launch_dict['Flight No.'] = flight_number\n",
    "        \n",
    "        # Date value\n",
    "        date_time_list = date_time(row[0])\n",
    "        date = date_time_list[0].strip(',')\n",
    "        launch_dict['Date'] = date\n",
    "        \n",
    "        # Time value\n",
    "        time = date_time_list[1]\n",
    "        launch_dict['Time'] = time\n",
    "          \n",
    "        # Booster version\n",
    "        bv = booster_version(row[1])\n",
    "        if not(bv):\n",
    "            bv = row[1].a.string\n",
    "        launch_dict['Version Booster'] = bv\n",
    "        \n",
    "        # Launch Site\n",
    "        launch_site = row[2].a.string\n",
    "        launch_dict['Launch Site'] = launch_site\n",
    "        \n",
    "        # Payload\n",
    "        payload = row[3].a.string\n",
    "        launch_dict['Payload'] = payload\n",
    "        \n",
    "        # Payload Mass\n",
    "        payload_mass = get_mass(row[4])\n",
    "        launch_dict['Payload mass'] = payload_mass\n",
    "        \n",
    "        # Orbit\n",
    "        orbit = row[5].a.string\n",
    "        launch_dict['Orbit'] = orbit\n",
    "        \n",
    "        # Customer\n",
    "        customer = row[6].a.string\n",
    "        launch_dict['Customer'] = customer\n",
    "        \n",
    "        # Launch outcome\n",
    "        launch_outcome = list(row[7].strings)[0]\n",
    "        launch_dict['Launch outcome'] = launch_outcome\n",
    "        \n",
    "        # Booster landing\n",
    "        booster_landing = landing_status(row[8])\n",
    "        launch_dict['Booster landing'] = booster_landing\n",
    "        \n",
    "        # print the launch dictionary for each launch\n",
    "        print(launch_dict)\n",
    "\n"
   ]
  },
  {
   "cell_type": "markdown",
   "metadata": {},
   "source": [
    "After you have fill in the parsed launch record values into `launch_dict`, you can create a dataframe from it.\n"
   ]
  },
  {
   "cell_type": "code",
   "execution_count": 36,
   "metadata": {},
   "outputs": [
    {
     "name": "stdout",
     "output_type": "stream",
     "text": [
      "   Flight No.                       Date Time Version Booster Launch Site  \\\n",
      "0         106  24 January 202115:00[612]         F9 B5B1058.5       CCSFS   \n",
      "1         106  24 January 202115:00[612]         F9 B5B1058.5       CCSFS   \n",
      "2         106  24 January 202115:00[612]         F9 B5B1058.5       CCSFS   \n",
      "3         106  24 January 202115:00[612]         F9 B5B1058.5       CCSFS   \n",
      "4         106  24 January 202115:00[612]         F9 B5B1058.5       CCSFS   \n",
      "5         106  24 January 202115:00[612]         F9 B5B1058.5       CCSFS   \n",
      "6         106  24 January 202115:00[612]         F9 B5B1058.5       CCSFS   \n",
      "7         106  24 January 202115:00[612]         F9 B5B1058.5       CCSFS   \n",
      "8         106  24 January 202115:00[612]         F9 B5B1058.5       CCSFS   \n",
      "9         106  24 January 202115:00[612]         F9 B5B1058.5       CCSFS   \n",
      "10        106  24 January 202115:00[612]         F9 B5B1058.5       CCSFS   \n",
      "11        106  24 January 202115:00[612]         F9 B5B1058.5       CCSFS   \n",
      "12        106  24 January 202115:00[612]         F9 B5B1058.5       CCSFS   \n",
      "13        106  24 January 202115:00[612]         F9 B5B1058.5       CCSFS   \n",
      "14        106  24 January 202115:00[612]         F9 B5B1058.5       CCSFS   \n",
      "15        106  24 January 202115:00[612]         F9 B5B1058.5       CCSFS   \n",
      "16        106  24 January 202115:00[612]         F9 B5B1058.5       CCSFS   \n",
      "17        106  24 January 202115:00[612]         F9 B5B1058.5       CCSFS   \n",
      "18        106  24 January 202115:00[612]         F9 B5B1058.5       CCSFS   \n",
      "19        106  24 January 202115:00[612]         F9 B5B1058.5       CCSFS   \n",
      "20        106  24 January 202115:00[612]         F9 B5B1058.5       CCSFS   \n",
      "21        106  24 January 202115:00[612]         F9 B5B1058.5       CCSFS   \n",
      "22        106  24 January 202115:00[612]         F9 B5B1058.5       CCSFS   \n",
      "23        106  24 January 202115:00[612]         F9 B5B1058.5       CCSFS   \n",
      "24        106  24 January 202115:00[612]         F9 B5B1058.5       CCSFS   \n",
      "25        106  24 January 202115:00[612]         F9 B5B1058.5       CCSFS   \n",
      "26        106  24 January 202115:00[612]         F9 B5B1058.5       CCSFS   \n",
      "27        106  24 January 202115:00[612]         F9 B5B1058.5       CCSFS   \n",
      "28        106  24 January 202115:00[612]         F9 B5B1058.5       CCSFS   \n",
      "29        106  24 January 202115:00[612]         F9 B5B1058.5       CCSFS   \n",
      "30        106  24 January 202115:00[612]         F9 B5B1058.5       CCSFS   \n",
      "31        106  24 January 202115:00[612]         F9 B5B1058.5       CCSFS   \n",
      "32        106  24 January 202115:00[612]         F9 B5B1058.5       CCSFS   \n",
      "33        106  24 January 202115:00[612]         F9 B5B1058.5       CCSFS   \n",
      "34        106  24 January 202115:00[612]         F9 B5B1058.5       CCSFS   \n",
      "35        106  24 January 202115:00[612]         F9 B5B1058.5       CCSFS   \n",
      "36        106  24 January 202115:00[612]         F9 B5B1058.5       CCSFS   \n",
      "\n",
      "          Payload Payload mass Orbit  Customer  Launch outcome  \\\n",
      "0   Transporter-1    ~5,000 kg   SSO       NaN             NaN   \n",
      "1   Transporter-1    ~5,000 kg   SSO       NaN             NaN   \n",
      "2   Transporter-1    ~5,000 kg   SSO       NaN             NaN   \n",
      "3   Transporter-1    ~5,000 kg   SSO       NaN             NaN   \n",
      "4   Transporter-1    ~5,000 kg   SSO       NaN             NaN   \n",
      "5   Transporter-1    ~5,000 kg   SSO       NaN             NaN   \n",
      "6   Transporter-1    ~5,000 kg   SSO       NaN             NaN   \n",
      "7   Transporter-1    ~5,000 kg   SSO       NaN             NaN   \n",
      "8   Transporter-1    ~5,000 kg   SSO       NaN             NaN   \n",
      "9   Transporter-1    ~5,000 kg   SSO       NaN             NaN   \n",
      "10  Transporter-1    ~5,000 kg   SSO       NaN             NaN   \n",
      "11  Transporter-1    ~5,000 kg   SSO       NaN             NaN   \n",
      "12  Transporter-1    ~5,000 kg   SSO       NaN             NaN   \n",
      "13  Transporter-1    ~5,000 kg   SSO       NaN             NaN   \n",
      "14  Transporter-1    ~5,000 kg   SSO       NaN             NaN   \n",
      "15  Transporter-1    ~5,000 kg   SSO       NaN             NaN   \n",
      "16  Transporter-1    ~5,000 kg   SSO       NaN             NaN   \n",
      "17  Transporter-1    ~5,000 kg   SSO       NaN             NaN   \n",
      "18  Transporter-1    ~5,000 kg   SSO       NaN             NaN   \n",
      "19  Transporter-1    ~5,000 kg   SSO       NaN             NaN   \n",
      "20  Transporter-1    ~5,000 kg   SSO       NaN             NaN   \n",
      "21  Transporter-1    ~5,000 kg   SSO       NaN             NaN   \n",
      "22  Transporter-1    ~5,000 kg   SSO       NaN             NaN   \n",
      "23  Transporter-1    ~5,000 kg   SSO       NaN             NaN   \n",
      "24  Transporter-1    ~5,000 kg   SSO       NaN             NaN   \n",
      "25  Transporter-1    ~5,000 kg   SSO       NaN             NaN   \n",
      "26  Transporter-1    ~5,000 kg   SSO       NaN             NaN   \n",
      "27  Transporter-1    ~5,000 kg   SSO       NaN             NaN   \n",
      "28  Transporter-1    ~5,000 kg   SSO       NaN             NaN   \n",
      "29  Transporter-1    ~5,000 kg   SSO       NaN             NaN   \n",
      "30  Transporter-1    ~5,000 kg   SSO       NaN             NaN   \n",
      "31  Transporter-1    ~5,000 kg   SSO       NaN             NaN   \n",
      "32  Transporter-1    ~5,000 kg   SSO       NaN             NaN   \n",
      "33  Transporter-1    ~5,000 kg   SSO       NaN             NaN   \n",
      "34  Transporter-1    ~5,000 kg   SSO       NaN             NaN   \n",
      "35  Transporter-1    ~5,000 kg   SSO       NaN             NaN   \n",
      "36  Transporter-1    ~5,000 kg   SSO       NaN             NaN   \n",
      "\n",
      "    Booster landing  \n",
      "0               NaN  \n",
      "1               NaN  \n",
      "2               NaN  \n",
      "3               NaN  \n",
      "4               NaN  \n",
      "5               NaN  \n",
      "6               NaN  \n",
      "7               NaN  \n",
      "8               NaN  \n",
      "9               NaN  \n",
      "10              NaN  \n",
      "11              NaN  \n",
      "12              NaN  \n",
      "13              NaN  \n",
      "14              NaN  \n",
      "15              NaN  \n",
      "16              NaN  \n",
      "17              NaN  \n",
      "18              NaN  \n",
      "19              NaN  \n",
      "20              NaN  \n",
      "21              NaN  \n",
      "22              NaN  \n",
      "23              NaN  \n",
      "24              NaN  \n",
      "25              NaN  \n",
      "26              NaN  \n",
      "27              NaN  \n",
      "28              NaN  \n",
      "29              NaN  \n",
      "30              NaN  \n",
      "31              NaN  \n",
      "32              NaN  \n",
      "33              NaN  \n",
      "34              NaN  \n",
      "35              NaN  \n",
      "36              NaN  \n"
     ]
    }
   ],
   "source": [
    "import pandas as pd\n",
    "\n",
    "\n",
    "launch_list = []\n",
    "\n",
    "for rows in table.find_all(\"tr\"):\n",
    "    # ...\n",
    "\n",
    "    if flag:\n",
    "        # ...\n",
    "        \n",
    "    \n",
    "        launch_list.append(launch_dict)\n",
    "        \n",
    "\n",
    "df = pd.DataFrame(launch_list, columns=['Flight No.', 'Date', 'Time', 'Version Booster', 'Launch Site', 'Payload', 'Payload mass', 'Orbit', 'Customer', 'Launch outcome', 'Booster landing'])\n",
    "\n",
    "# print the DataFrame\n",
    "print(df)\n"
   ]
  },
  {
   "cell_type": "markdown",
   "metadata": {},
   "source": [
    "We can now export it to a <b>CSV</b> for the next section, but to make the answers consistent and in case you have difficulties finishing this lab. \n",
    "\n",
    "Following labs will be using a provided dataset to make each lab independent. \n"
   ]
  },
  {
   "cell_type": "markdown",
   "metadata": {},
   "source": [
    "<code>df.to_csv('spacex_web_scraped.csv', index=False)</code>\n"
   ]
  },
  {
   "cell_type": "markdown",
   "metadata": {},
   "source": [
    "## Authors\n"
   ]
  },
  {
   "cell_type": "markdown",
   "metadata": {},
   "source": [
    "<a href=\"https://www.linkedin.com/in/yan-luo-96288783/?utm_medium=Exinfluencer&utm_source=Exinfluencer&utm_content=000026UJ&utm_term=10006555&utm_id=NA-SkillsNetwork-Channel-SkillsNetworkCoursesIBMDS0321ENSkillsNetwork865-2023-01-01\">Yan Luo</a>\n"
   ]
  },
  {
   "cell_type": "markdown",
   "metadata": {},
   "source": [
    "<a href=\"https://www.linkedin.com/in/nayefaboutayoun/?utm_medium=Exinfluencer&utm_source=Exinfluencer&utm_content=000026UJ&utm_term=10006555&utm_id=NA-SkillsNetwork-Channel-SkillsNetworkCoursesIBMDS0321ENSkillsNetwork865-2023-01-01\">Nayef Abou Tayoun</a>\n"
   ]
  },
  {
   "cell_type": "markdown",
   "metadata": {},
   "source": [
    "## Change Log\n"
   ]
  },
  {
   "cell_type": "markdown",
   "metadata": {},
   "source": [
    "| Date (YYYY-MM-DD) | Version | Changed By | Change Description      |\n",
    "| ----------------- | ------- | ---------- | ----------------------- |\n",
    "| 2021-06-09        | 1.0     | Yan Luo    | Tasks updates           |\n",
    "| 2020-11-10        | 1.0     | Nayef      | Created the initial version |\n"
   ]
  },
  {
   "cell_type": "markdown",
   "metadata": {},
   "source": [
    "Copyright © 2021 IBM Corporation. All rights reserved.\n"
   ]
  }
 ],
 "metadata": {
  "kernelspec": {
   "display_name": "Python",
   "language": "python",
   "name": "conda-env-python-py"
  },
  "language_info": {
   "codemirror_mode": {
    "name": "ipython",
    "version": 3
   },
   "file_extension": ".py",
   "mimetype": "text/x-python",
   "name": "python",
   "nbconvert_exporter": "python",
   "pygments_lexer": "ipython3",
   "version": "3.7.12"
  }
 },
 "nbformat": 4,
 "nbformat_minor": 4
}
